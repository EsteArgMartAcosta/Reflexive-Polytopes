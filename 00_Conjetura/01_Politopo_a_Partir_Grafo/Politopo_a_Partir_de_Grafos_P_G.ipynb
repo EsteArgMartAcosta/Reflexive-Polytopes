{
  "nbformat": 4,
  "nbformat_minor": 0,
  "metadata": {
    "colab": {
      "provenance": []
    },
    "kernelspec": {
      "name": "python3",
      "display_name": "Python 3"
    },
    "language_info": {
      "name": "python"
    }
  },
  "cells": [
    {
      "cell_type": "markdown",
      "source": [
        "**Implementación**"
      ],
      "metadata": {
        "id": "ulPy7q6_6jN1"
      }
    },
    {
      "cell_type": "code",
      "execution_count": null,
      "metadata": {
        "id": "_aR8X4Bq6KYA"
      },
      "outputs": [],
      "source": [
        "\n",
        "# K partes del grafo\n",
        "sizes = [5,4,]\n",
        "\n",
        "\n",
        "# Grafo k-pártito y politopo P_G\n",
        "G = graphs.CompleteMultipartiteGraph(sizes)\n",
        "n = sum(sizes)\n",
        "print(f\"Grafo  K{tuple(sizes)}   |V|={n}   |E|={G.num_edges()}\")\n",
        "\n",
        "\n",
        "verts = []\n",
        "for u, v in G.edges(labels=False):\n",
        "    vec = vector(QQ, [1 if i == u else -1 if i == v else 0 for i in range(n)])\n",
        "    verts.append(vec); verts.append(-vec)\n",
        "\n",
        "try:\n",
        "    P = Polyhedron(vertices=verts, backend='normaliz')\n",
        "    backend = 'normaliz'          # se creó con Normaliz\n",
        "except (RuntimeError, ValueError):\n",
        "    P = Polyhedron(vertices=verts)   # backend por defecto (PPL, cdd…)\n",
        "    backend = 'other'               # usaremos LattE como motor\n",
        "\n",
        "# Dimensión, f vector, vértices\n",
        "print(\"\\n=== Datos de  P_G ===\")\n",
        "print(\"Dimensión              :\", P.dim())\n",
        "print(\"f-vector               :\", P.f_vector())\n",
        "print(\"# vértices (=2|E|)     :\", len(P.vertices_list()))\n",
        "\n",
        "\n",
        "# Polinomio y serie de Ehrhart\n",
        "s, t = var('s t')\n",
        "\n",
        "if backend == 'normaliz':\n",
        "    Ehr   = P.ehrhart_polynomial(variable=s)      # Normaliz interno\n",
        "    Serie = P.ehrhart_series(t)                   #   »      »\n",
        "    engine_used = 'normaliz (backend)'\n",
        "else:\n",
        "    Ehr   = P.ehrhart_polynomial(variable=s, engine='latte')\n",
        "    Serie = P.ehrhart_series(t,          engine='latte')\n",
        "    engine_used = 'latte'\n",
        "\n",
        "print(f\"\\n[Ehrhart con {engine_used}]\")\n",
        "print(\"H_G(s)                 :\", Ehr)\n",
        "print(\"F_{P_G}(t)             :\", Serie)\n",
        "\n",
        "# δ-vector\n",
        "delta_vec  = Serie.numerator().coefficients(sparse=False)\n",
        "print(\"δ-vector               :\", delta_vec)\n"
      ]
    }
  ]
}