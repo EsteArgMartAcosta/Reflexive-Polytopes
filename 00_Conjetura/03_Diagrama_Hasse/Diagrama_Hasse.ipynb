{
  "nbformat": 4,
  "nbformat_minor": 0,
  "metadata": {
    "colab": {
      "provenance": []
    },
    "kernelspec": {
      "name": "python3",
      "display_name": "Python 3"
    },
    "language_info": {
      "name": "python"
    }
  },
  "cells": [
    {
      "cell_type": "markdown",
      "source": [
        "**Implementación**"
      ],
      "metadata": {
        "id": "zFMHudjmPLE5"
      }
    },
    {
      "cell_type": "code",
      "execution_count": null,
      "metadata": {
        "id": "l4gNHrz1O7B0"
      },
      "outputs": [],
      "source": [
        "\n",
        "# ───────── AJUSTA AQUÍ ──────────────────────────────────────────────────────\n",
        "h_spacing  = 1800.0              # AUMENTADO: separación horizontal entre nodos\n",
        "v_spacing  = 50.0               # separación vertical entre niveles\n",
        "figsize    = (120, 90)           # AUMENTADO: tamaño de la figura (más ancho)\n",
        "# ─────────────────────────────────────────────────────────────────────────────\n",
        "\n",
        "# 1) Calcula la retícula de caras de tu politopo P\n",
        "faces   = P.face_lattice()\n",
        "min_dim = min(f.dimension() for f in faces)\n",
        "max_dim = max(f.dimension() for f in faces)\n",
        "n_levels = max_dim - min_dim + 1\n",
        "levels  = [[] for _ in range(n_levels)]\n",
        "for f in faces:\n",
        "    idx = (max_dim - f.dimension())\n",
        "    levels[idx].append(f)\n",
        "\n",
        "# 2) Crea identificador numérico para vértices\n",
        "verts_list = P.vertices_list()\n",
        "v_id = {tuple(v): i+1 for i, v in enumerate(verts_list)}\n",
        "\n",
        "def label(face):\n",
        "    idx = sorted(v_id[tuple(v)] for v in face.vertices())\n",
        "    return r\"$\\varnothing$\" if not idx else r\"$\\{\" + \",\".join(map(str, idx)) + r\"\\}$\"\n",
        "\n",
        "# 3) Calcula posiciones (x,y)\n",
        "pos = {}\n",
        "for d, lvl in enumerate(levels):\n",
        "    y_pos = d * v_spacing\n",
        "    if len(lvl) == 1:\n",
        "        pos[lvl[0]] = (0.0, y_pos)\n",
        "    else:\n",
        "        step = h_spacing / (len(lvl) - 1)\n",
        "        offset = -h_spacing / 2\n",
        "        for i, f in enumerate(sorted(lvl, key=str)):\n",
        "            pos[f] = (offset + i * step, y_pos)\n",
        "\n",
        "# 4) Construye y dibuja el diagrama con líneas color vino\n",
        "import networkx as nx, matplotlib.pyplot as plt\n",
        "\n",
        "DG = nx.DiGraph()\n",
        "DG.add_nodes_from(faces)\n",
        "DG.add_edges_from(faces.cover_relations())\n",
        "\n",
        "plt.figure(figsize=figsize, facecolor='white')\n",
        "nx.draw_networkx_nodes(\n",
        "    DG, pos,\n",
        "    node_color=\"#a2ddfd\",      # Color de nodo azul claro\n",
        "    edgecolors=\"#EFEEEA\",       # Borde blanco perlado\n",
        "    node_size=10,\n",
        "    linewidths=1.3,\n",
        ")\n",
        "\n",
        "# LÍNEAS EN COLOR VINO (#C5172E) - COINCIDE CON LAS ETIQUETAS\n",
        "nx.draw_networkx_edges(\n",
        "    DG, pos,\n",
        "    arrows=False,\n",
        "    width=1.5,                # Ligeramente más gruesas\n",
        "    alpha=0.7,                # Menos transparencia\n",
        "    edge_color='#686D76'       # Color vino\n",
        ")\n",
        "\n",
        "# ETIQUETAS\n",
        "nx.draw_networkx_labels(\n",
        "    DG, pos,\n",
        "    labels={f: label(f) for f in faces},\n",
        "    font_size=15,\n",
        "    font_color='#C5172E',      # Color vino\n",
        "    font_weight='bold',\n",
        "    alpha=0.0\n",
        ")\n",
        "\n",
        "plt.axis(\"off\")\n",
        "plt.show()"
      ]
    }
  ]
}