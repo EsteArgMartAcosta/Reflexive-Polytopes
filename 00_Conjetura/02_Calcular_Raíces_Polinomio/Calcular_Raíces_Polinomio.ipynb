{
  "nbformat": 4,
  "nbformat_minor": 0,
  "metadata": {
    "colab": {
      "provenance": []
    },
    "kernelspec": {
      "name": "python3",
      "display_name": "Python 3"
    },
    "language_info": {
      "name": "python"
    }
  },
  "cells": [
    {
      "cell_type": "markdown",
      "source": [
        "**Implementación**"
      ],
      "metadata": {
        "id": "or31nbQtAs_a"
      }
    },
    {
      "cell_type": "code",
      "execution_count": null,
      "metadata": {
        "id": "l_gJLn-cAncf"
      },
      "outputs": [],
      "source": [
        "# Anillo de polinomios con coeficientes racionales\n",
        "R.<s> = PolynomialRing(QQ)\n",
        "\n",
        "# Campo complejo con 30 cifras decimales (~100 bits)\n",
        "K = ComplexField(100)\n",
        "\n",
        "# Todas las raíces numéricas\n",
        "Ehr_roots = Ehr.roots(ring=K)\n",
        "\n",
        "for z, mult in Ehr_roots:\n",
        "    print(f\"{z}    mult={mult}\")"
      ]
    }
  ]
}