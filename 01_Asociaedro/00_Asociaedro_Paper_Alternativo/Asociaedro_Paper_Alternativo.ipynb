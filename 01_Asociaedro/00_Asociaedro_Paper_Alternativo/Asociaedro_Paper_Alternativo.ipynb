{
  "nbformat": 4,
  "nbformat_minor": 0,
  "metadata": {
    "colab": {
      "provenance": []
    },
    "kernelspec": {
      "name": "python3",
      "display_name": "Python 3"
    },
    "language_info": {
      "name": "python"
    }
  },
  "cells": [
    {
      "cell_type": "markdown",
      "source": [
        "**Implementación**"
      ],
      "metadata": {
        "id": "BlOZlx6Cm11M"
      }
    },
    {
      "cell_type": "code",
      "execution_count": null,
      "metadata": {
        "id": "auRTbX9IlPrJ"
      },
      "outputs": [],
      "source": [
        "\n",
        "# 1) Definimos la variable simbólica\n",
        "m, t = var('m t')\n",
        "\n",
        "# 2) Implementamos la fórmula cerrada para H_{S_d}(m)\n",
        "def Ehrhart_Stasheff_closed(d):\n",
        "    d = Integer(d)\n",
        "    H = sum( (1/(d+1)) * binomial(d+1, k+1) * binomial(d+1, k) * binomial(m + d - k, d)\n",
        "             for k in range(d+1) )\n",
        "    return expand(H)\n",
        "\n",
        "# 3) Dada la serie h*(t) = ∑ h_i t^i sobre (1−t)^{d+1}, extraemos el h*–vector\n",
        "def h_star_from_series(series_num, d):\n",
        "    # series_num es el numerador ∑ h_i t^i\n",
        "    return [ series_num.coefficient(t, i) for i in range(d+1) ]\n",
        "\n",
        "# 4) Comprobación palindrómica de h* (criterio de reflexividad)\n",
        "def es_reflexivo_por_hstar(hstar):\n",
        "    return all(hstar[i] == hstar[-(i+1)] for i in range(len(hstar)))\n",
        "\n",
        "# 5) Exploramos para d = 2,3,4\n",
        "for d in [2,3,4]:\n",
        "    print(f\"--- Dimension {d} ---\")\n",
        "    # a) Polinomio de Ehrhart\n",
        "    E = Ehrhart_Stasheff_closed(d)\n",
        "    print(\"L_P(m) =\", E)\n",
        "\n",
        "    M = matrix(QQ, [[ binomial(m_val + d - i, d)\n",
        "                      for i in range(d+1)]\n",
        "                    for m_val in range(d+1)])\n",
        "    vals = vector(QQ, [E(m=m_val) for m_val in range(d+1)])\n",
        "    hstar = M.solve_right(vals)\n",
        "    print(\"h*–vector:\", list(hstar))\n",
        "    # c) Serie de Ehrhart simbólica\n",
        "    Ht = sum(hstar[i]*t^i for i in range(d+1))\n",
        "    print(\"E_P(t) =\", Ht, \"/ (1 - t)^\", d+1)\n",
        "    # d) Reflexividad por palíndromo\n",
        "    print(\"Reflexivo? palindrómico h* →\", es_reflexivo_por_hstar(hstar))\n",
        "    print()\n"
      ]
    }
  ]
}