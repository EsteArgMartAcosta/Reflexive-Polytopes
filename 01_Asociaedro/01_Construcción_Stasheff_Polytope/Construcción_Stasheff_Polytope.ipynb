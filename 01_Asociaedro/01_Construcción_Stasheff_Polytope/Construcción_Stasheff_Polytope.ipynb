{
  "nbformat": 4,
  "nbformat_minor": 0,
  "metadata": {
    "colab": {
      "provenance": []
    },
    "kernelspec": {
      "name": "python3",
      "display_name": "Python 3"
    },
    "language_info": {
      "name": "python"
    }
  },
  "cells": [
    {
      "cell_type": "code",
      "execution_count": null,
      "metadata": {
        "id": "4Cu6JzlKn3kA"
      },
      "outputs": [],
      "source": [
        "\n",
        "# 1) Construcción de S_d = Conv({±e_i : 1≤i≤d} ∪ {e_i + … + e_j : 1≤i<j≤d})\n",
        "def Stasheff_dual(d):\n",
        "    d = Integer(d)\n",
        "    verts = []\n",
        "    # ±e_i\n",
        "    for i in range(d):\n",
        "        ei = vector(QQ, [1 if k == i else 0 for k in range(d)])\n",
        "        verts.append(ei)\n",
        "        verts.append(-ei)\n",
        "    # e_i + … + e_j, con 1 ≤ i < j ≤ d\n",
        "    for i in range(d):\n",
        "        for j in range(i+1, d):\n",
        "            v = vector(QQ, [1 if i <= k <= j else 0 for k in range(d)])\n",
        "            verts.append(v)\n",
        "    return Polyhedron(vertices=verts)\n",
        "\n",
        "# 2) El associaedro A_d es simplemente el polar de S_d\n",
        "def associahedron(d):\n",
        "    Sd = Stasheff_dual(d)\n",
        "    return Sd.polar()\n",
        "\n",
        "# 3) Ejemplo de uso, sin gráficas\n",
        "for d in [2,3,4]:\n",
        "    Sd = Stasheff_dual(d)\n",
        "    Ad = associahedron(d)\n",
        "    print(f\"d = {d}: S_d tiene {len(Sd.vertices_list())} vértices; \"\n",
        "          f\"el associaedro A_d = S_d^◦ tiene {len(Ad.vertices_list())} vértices.\")"
      ]
    }
  ]
}