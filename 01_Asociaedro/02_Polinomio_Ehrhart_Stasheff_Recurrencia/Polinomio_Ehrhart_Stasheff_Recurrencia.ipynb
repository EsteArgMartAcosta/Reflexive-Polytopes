{
  "nbformat": 4,
  "nbformat_minor": 0,
  "metadata": {
    "colab": {
      "provenance": []
    },
    "kernelspec": {
      "name": "python3",
      "display_name": "Python 3"
    },
    "language_info": {
      "name": "python"
    }
  },
  "cells": [
    {
      "cell_type": "code",
      "execution_count": null,
      "metadata": {
        "id": "deJlv4aRsweN"
      },
      "outputs": [],
      "source": [
        "\n",
        "###############################################################\n",
        "#  Ehrhart de los politopos de Stasheff mediante la recurrencia (3.1)\n",
        "#  compatible con SageMath ≥ 10.6   (sin Normaliz ni LattE)\n",
        "###############################################################\n",
        "from sage.all import QQ, PolynomialRing, matrix, vector, var\n",
        "\n",
        "# Anillo Q[n]\n",
        "R.<n> = PolynomialRing(QQ)\n",
        "\n",
        "# -----------------------------------------------------------------\n",
        "# 1.  Recurrencia  E_d = (2n+1)E_{d-1} – ½ n(n+1)E_{d-2}\n",
        "# -----------------------------------------------------------------\n",
        "def ehrhart_stasheff_recurrence(d):\n",
        "    if d < 0:\n",
        "        raise ValueError(\"d debe ser ≥ 0\")\n",
        "\n",
        "    E0 = R(1)\n",
        "    E1 = 2*n + 1\n",
        "    if d == 0:\n",
        "        return E0\n",
        "    if d == 1:\n",
        "        return E1\n",
        "\n",
        "    E_prev2, E_prev1 = E0, E1\n",
        "    for _ in range(2, d + 1):\n",
        "        E_k = (2*n + 1) * E_prev1 - QQ(1)/2 * n * (n + 1) * E_prev2\n",
        "        E_prev2, E_prev1 = E_prev1, R(E_k)      # asegura que está en R\n",
        "    return E_prev1\n",
        "\n",
        "# -----------------------------------------------------------------\n",
        "# 2.  Descomposición mágica  E(n) = Σ a_j n^j (1+n)^{d-j}\n",
        "# -----------------------------------------------------------------\n",
        "def magic_decomposition(poly, d):\n",
        "    \"\"\"\n",
        "    Devuelve los coeficientes a_j tales que\n",
        "        poly(n) = Σ_{j=0}^d  a_j n^j (1+n)^{d-j}.\n",
        "    \"\"\"\n",
        "    # Matriz de cambio de base   B_{ij} = coef. de n^i en n^j(1+n)^{d-j}\n",
        "    B = matrix(QQ, d + 1, d + 1,\n",
        "               lambda i, j: R((n**j) * (1 + n)**(d - j))[i])\n",
        "    b = vector(QQ, [poly[i] for i in range(d + 1)])   # coef. de poly\n",
        "    return list(B.solve_right(b))                     # a = B^{-1} b\n",
        "\n",
        "# -----------------------------------------------------------------\n",
        "# 3.  Demostración rápida  (d = 2,3,4,5)\n",
        "# -----------------------------------------------------------------\n",
        "if __name__ == \"__main__\":\n",
        "    for d in [2, 3, 4, 5, 6]:\n",
        "        E = ehrhart_stasheff_recurrence(d)\n",
        "        a = magic_decomposition(E, d)\n",
        "\n",
        "        print(f\"\\nStasheff  d = {d}\")\n",
        "        print(\"E_{St_d}(n) =\", E)\n",
        "        print(\"Forma mágica:\",\n",
        "              \" + \".join(f\"{ai}·n^{j}(1+n)^{d-j}\"\n",
        "                         for j, ai in enumerate(a) if ai))\n"
      ]
    }
  ]
}